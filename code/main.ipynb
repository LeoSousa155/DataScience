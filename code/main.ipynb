{
 "cells": [
  {
   "metadata": {},
   "cell_type": "markdown",
   "source": [
    "# Nota\n",
    "\n",
    "Este notebook serve para exercutar o código organizado nos diferentes ficheiros, usamos o `dev` para fazer o desenvolvimento pois é mais rápido para testar mas depois organizamos o código em diferentes ficheiros e fazemos as chamadas aqui em `main`."
   ],
   "id": "7bb47d66b7c0792c"
  },
  {
   "metadata": {},
   "cell_type": "code",
   "outputs": [],
   "execution_count": null,
   "source": [
    "# Importing necessary libraries\n",
    "import pandas as pd"
   ],
   "id": "4f444506ec575313"
  },
  {
   "metadata": {
    "collapsed": true
   },
   "cell_type": "code",
   "outputs": [],
   "execution_count": null,
   "source": [
    "# Importing classes of the project\n",
    "\n",
    "# Data Analysis Classes\n",
    "from data_analysis.database import KagglehubSQLiteLoader\n",
    "from data_analysis.analizer import TripDataAnalizer\n",
    "\n",
    "# import preprocessor para ficar em ordem\n",
    "\n",
    "from data_analysis.cleaner import DataCleaning\n",
    "\n",
    "# EDA classes\n",
    "\n",
    "\n",
    "# Statistical Analysis classes"
   ],
   "id": "initial_id"
  },
  {
   "metadata": {},
   "cell_type": "code",
   "outputs": [],
   "execution_count": null,
   "source": [
    "### Generate dataset to work with in following phases ###\n",
    "\n",
    "# Load all 12 SQLite databases with data from all months\n",
    "dataframes = []\n",
    "\n",
    "for i in range(1,13):\n",
    "    file = f\"\\\\2019\\\\2019-{i:02}.sqlite\"\n",
    "    data = KagglehubSQLiteLoader(\"dhruvildave/new-york-city-taxi-trips-2019\", file)\n",
    "\n",
    "    # Random sample those databases to get a general sample with data from all of them\n",
    "    df = data.get_table_dataframe_random_sample('tripdata')\n",
    "    dataframes.append(df)\n",
    "\n",
    "\n",
    "# Join all the samples in a single dataframe\n",
    "df = pd.concat(dataframes, ignore_index=True)\n",
    "\n",
    "# Apply Analysis\n",
    "\n",
    "# Apply Preprocessing\n",
    "\n",
    "# Apply Clean up\n",
    "\n",
    "# Save it\n"
   ],
   "id": "2474d08eedd0cb30"
  }
 ],
 "metadata": {
  "kernelspec": {
   "display_name": "Python 3",
   "language": "python",
   "name": "python3"
  },
  "language_info": {
   "codemirror_mode": {
    "name": "ipython",
    "version": 2
   },
   "file_extension": ".py",
   "mimetype": "text/x-python",
   "name": "python",
   "nbconvert_exporter": "python",
   "pygments_lexer": "ipython2",
   "version": "2.7.6"
  }
 },
 "nbformat": 4,
 "nbformat_minor": 5
}
